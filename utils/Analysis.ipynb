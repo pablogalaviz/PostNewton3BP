{
 "cells": [
  {
   "cell_type": "code",
   "execution_count": 15,
   "metadata": {
    "collapsed": true,
    "deletable": true,
    "editable": true
   },
   "outputs": [],
   "source": [
    "import numpy as np \n",
    "import pandas as pd \n",
    "import h5py \n",
    "import matplotlib.pyplot as plt\n",
    "from mpl_toolkits.mplot3d.axes3d import Axes3D\n",
    "from matplotlib import cm\n",
    "import matplotlib.cm as cm\n",
    "from matplotlib.colors import LogNorm\n",
    "\n",
    "%matplotlib inline "
   ]
  },
  {
   "cell_type": "code",
   "execution_count": 21,
   "metadata": {
    "collapsed": true,
    "deletable": true,
    "editable": true
   },
   "outputs": [],
   "source": [
    "figname='lt'\n",
    "h5file=h5py.File(\"/Users/pablo/Development/PostNewton3BP/exe/Fig3_\"+figname+\"/output.h5\")"
   ]
  },
  {
   "cell_type": "code",
   "execution_count": 48,
   "metadata": {
    "collapsed": false,
    "deletable": true,
    "editable": true
   },
   "outputs": [
    {
     "data": {
      "text/plain": [
       "array([[[ 1.00015998,  1.00015998,  1.00015998, ...,  1.00015995,\n",
       "          1.00015995,  1.00015995],\n",
       "        [ 1.00015993,  1.00015993,  1.00015993, ...,  1.0001599 ,\n",
       "          1.0001599 ,  1.0001599 ],\n",
       "        [ 1.00015988,  1.00015988,  1.00015988, ...,  1.00015985,\n",
       "          1.00015985,  1.00015985],\n",
       "        ..., \n",
       "        [ 1.00015694,  1.00015694,  1.00015694, ...,  1.00015692,\n",
       "          1.00015692,  1.00015691],\n",
       "        [ 1.0001569 ,  1.0001569 ,  1.0001569 , ...,  1.00015687,\n",
       "          1.00015687,  1.00015687],\n",
       "        [ 1.00015685,  1.00015685,  1.00015685, ...,  1.00015682,\n",
       "          1.00015682,  1.00015682]],\n",
       "\n",
       "       [[ 1.00015998,  1.00015998,  1.00015998, ...,  1.00015995,\n",
       "          1.00015995,  1.00015995],\n",
       "        [ 1.00015993,  1.00015993,  1.00015993, ...,  1.0001599 ,\n",
       "          1.0001599 ,  1.0001599 ],\n",
       "        [ 1.00015988,  1.00015988,  1.00015988, ...,  1.00015985,\n",
       "          1.00015985,  1.00015985],\n",
       "        ..., \n",
       "        [ 1.00015694,  1.00015694,  1.00015694, ...,  1.00015692,\n",
       "          1.00015692,  1.00015691],\n",
       "        [ 1.0001569 ,  1.0001569 ,  1.0001569 , ...,  1.00015687,\n",
       "          1.00015687,  1.00015687],\n",
       "        [ 1.00015685,  1.00015685,  1.00015685, ...,  1.00015682,\n",
       "          1.00015682,  1.00015682]],\n",
       "\n",
       "       [[ 1.00015998,  1.00015998,  1.00015998, ...,  1.00015995,\n",
       "          1.00015995,  1.00015995],\n",
       "        [ 1.00015993,  1.00015993,  1.00015993, ...,  1.0001599 ,\n",
       "          1.0001599 ,  1.0001599 ],\n",
       "        [ 1.00015988,  1.00015988,  1.00015988, ...,  1.00015985,\n",
       "          1.00015985,  1.00015985],\n",
       "        ..., \n",
       "        [ 1.00015694,  1.00015694,  1.00015694, ...,  1.00015692,\n",
       "          1.00015692,  1.00015691],\n",
       "        [ 1.0001569 ,  1.0001569 ,  1.0001569 , ...,  1.00015687,\n",
       "          1.00015687,  1.00015687],\n",
       "        [ 1.00015685,  1.00015685,  1.00015685, ...,  1.00015682,\n",
       "          1.00015682,  1.00015682]],\n",
       "\n",
       "       ..., \n",
       "       [[ 1.00015995,  1.00015995,  1.00015995, ...,  1.00015992,\n",
       "          1.00015992,  1.00015992],\n",
       "        [ 1.0001599 ,  1.0001599 ,  1.0001599 , ...,  1.00015987,\n",
       "          1.00015987,  1.00015987],\n",
       "        [ 1.00015985,  1.00015985,  1.00015985, ...,  1.00015982,\n",
       "          1.00015982,  1.00015982],\n",
       "        ..., \n",
       "        [ 1.00015692,  1.00015692,  1.00015692, ...,  1.00015689,\n",
       "          1.00015689,  1.00015689],\n",
       "        [ 1.00015687,  1.00015687,  1.00015687, ...,  1.00015684,\n",
       "          1.00015684,  1.00015684],\n",
       "        [ 1.00015682,  1.00015682,  1.00015682, ...,  1.00015679,\n",
       "          1.00015679,  1.00015679]],\n",
       "\n",
       "       [[ 1.00015995,  1.00015995,  1.00015995, ...,  1.00015992,\n",
       "          1.00015992,  1.00015992],\n",
       "        [ 1.0001599 ,  1.0001599 ,  1.0001599 , ...,  1.00015987,\n",
       "          1.00015987,  1.00015987],\n",
       "        [ 1.00015985,  1.00015985,  1.00015985, ...,  1.00015982,\n",
       "          1.00015982,  1.00015982],\n",
       "        ..., \n",
       "        [ 1.00015692,  1.00015692,  1.00015692, ...,  1.00015689,\n",
       "          1.00015689,  1.00015689],\n",
       "        [ 1.00015687,  1.00015687,  1.00015687, ...,  1.00015684,\n",
       "          1.00015684,  1.00015684],\n",
       "        [ 1.00015682,  1.00015682,  1.00015682, ...,  1.00015679,\n",
       "          1.00015679,  1.00015679]],\n",
       "\n",
       "       [[ 1.00015995,  1.00015995,  1.00015995, ...,  1.00015992,\n",
       "          1.00015992,  1.00015992],\n",
       "        [ 1.0001599 ,  1.0001599 ,  1.0001599 , ...,  1.00015987,\n",
       "          1.00015987,  1.00015987],\n",
       "        [ 1.00015985,  1.00015985,  1.00015985, ...,  1.00015982,\n",
       "          1.00015982,  1.00015982],\n",
       "        ..., \n",
       "        [ 1.00015691,  1.00015691,  1.00015691, ...,  1.00015689,\n",
       "          1.00015689,  1.00015688],\n",
       "        [ 1.00015687,  1.00015687,  1.00015687, ...,  1.00015684,\n",
       "          1.00015684,  1.00015684],\n",
       "        [ 1.00015682,  1.00015682,  1.00015682, ...,  1.00015679,\n",
       "          1.00015679,  1.00015679]]])"
      ]
     },
     "execution_count": 48,
     "metadata": {},
     "output_type": "execute_result"
    }
   ],
   "source": [
    "h5file['0/fields/1/metric_0_0'][:]"
   ]
  },
  {
   "cell_type": "code",
   "execution_count": 18,
   "metadata": {
    "collapsed": true,
    "deletable": true,
    "editable": true
   },
   "outputs": [],
   "source": [
    "def get_waves(h5file):\n",
    "    l_modes=[2,3] \n",
    "    columns=[\"t\"]\n",
    "    name=[\"Q\",\"O\",\"CQ\"]\n",
    "    for l in l_modes:\n",
    "        for p in ['R','I']:\n",
    "            for m in np.arange(start=-l,stop=l+1):\n",
    "                columns.append(p+'['+name[l-2]+'m='+str(m)+\"]\")\n",
    "    l=3\n",
    "    for p in ['R','I']:\n",
    "        for m in np.arange(start=-l,stop=l+1):\n",
    "            columns.append(p+'['+name[l-1]+'m='+str(m)+\"]\")\n",
    "    return pd.DataFrame(h5file['0']['waves'][:],columns=columns)       \n",
    "    \n",
    "df_waves=get_waves(h5file).set_index('t')"
   ]
  },
  {
   "cell_type": "code",
   "execution_count": 19,
   "metadata": {
    "collapsed": true,
    "deletable": true,
    "editable": true
   },
   "outputs": [],
   "source": [
    "def get_dynamic_variable(h5file, dataset):\n",
    "    Np=h5file['0'][dataset].attrs['np'][0]\n",
    "    Dim=h5file['0'][dataset].attrs['dim'][0]\n",
    "    coord=['x','y','z']    \n",
    "    cols=['t']\n",
    "    for p in np.arange(Np):\n",
    "        for i in np.arange(Dim):\n",
    "            cols.append(coord[i]+str(p+1))\n",
    "    return pd.DataFrame(h5file['0'][dataset][:],columns=cols)\n",
    "\n",
    "\n",
    "df_x=get_dynamic_variable(h5file, \"position\").set_index('t')\n",
    "df_p=get_dynamic_variable(h5file, \"momentum\").set_index('t')\n",
    "\n",
    "df_dxdt=get_dynamic_variable(h5file, \"dxdt\").set_index('t')\n",
    "df_dpdt=get_dynamic_variable(h5file, \"dpdt\").set_index('t')\n",
    "\n",
    "df_ddxdt2=get_dynamic_variable(h5file, \"ddxdt2\").set_index('t')\n",
    "df_ddpdt2=get_dynamic_variable(h5file, \"ddpdt2\").set_index('t')"
   ]
  },
  {
   "cell_type": "code",
   "execution_count": 20,
   "metadata": {
    "collapsed": false,
    "deletable": true,
    "editable": true
   },
   "outputs": [
    {
     "data": {
      "image/png": "[encoded data removed]",
      "text/plain": [
       "<matplotlib.figure.Figure at 0x10ff34860>"
      ]
     },
     "metadata": {},
     "output_type": "display_data"
    }
   ],
   "source": [
    "ax=df_x.plot.scatter(x='x1',y='y1',s=1,c='g')\n",
    "ax=df_x.plot.scatter(x='x2',y='y2',s=1,c='b',ax=ax)\n"
   ]
  },
  {
   "cell_type": "code",
   "execution_count": 21,
   "metadata": {
    "collapsed": false,
    "deletable": true,
    "editable": true
   },
   "outputs": [
    {
     "data": {
      "text/html": [
       "<div>\n",
       "<table border=\"1\" class=\"dataframe\">\n",
       "  <thead>\n",
       "    <tr style=\"text-align: right;\">\n",
       "      <th></th>\n",
       "      <th>x1</th>\n",
       "      <th>y1</th>\n",
       "      <th>x2</th>\n",
       "      <th>y2</th>\n",
       "    </tr>\n",
       "    <tr>\n",
       "      <th>t</th>\n",
       "      <th></th>\n",
       "      <th></th>\n",
       "      <th></th>\n",
       "      <th></th>\n",
       "    </tr>\n",
       "  </thead>\n",
       "  <tbody>\n",
       "    <tr>\n",
       "      <th>0</th>\n",
       "      <td>100018.000000</td>\n",
       "      <td>0.000000</td>\n",
       "      <td>100002.000000</td>\n",
       "      <td>0.000000</td>\n",
       "    </tr>\n",
       "    <tr>\n",
       "      <th>1</th>\n",
       "      <td>100017.999805</td>\n",
       "      <td>-0.022360</td>\n",
       "      <td>100002.001758</td>\n",
       "      <td>0.201238</td>\n",
       "    </tr>\n",
       "    <tr>\n",
       "      <th>2</th>\n",
       "      <td>100017.999219</td>\n",
       "      <td>-0.044714</td>\n",
       "      <td>100002.007031</td>\n",
       "      <td>0.402427</td>\n",
       "    </tr>\n",
       "    <tr>\n",
       "      <th>3</th>\n",
       "      <td>100017.998242</td>\n",
       "      <td>-0.067057</td>\n",
       "      <td>100002.015819</td>\n",
       "      <td>0.603517</td>\n",
       "    </tr>\n",
       "    <tr>\n",
       "      <th>4</th>\n",
       "      <td>100017.996875</td>\n",
       "      <td>-0.089384</td>\n",
       "      <td>100002.028121</td>\n",
       "      <td>0.804460</td>\n",
       "    </tr>\n",
       "    <tr>\n",
       "      <th>5</th>\n",
       "      <td>100017.995118</td>\n",
       "      <td>-0.111690</td>\n",
       "      <td>100002.043936</td>\n",
       "      <td>1.005207</td>\n",
       "    </tr>\n",
       "    <tr>\n",
       "      <th>6</th>\n",
       "      <td>100017.992971</td>\n",
       "      <td>-0.133967</td>\n",
       "      <td>100002.063263</td>\n",
       "      <td>1.205707</td>\n",
       "    </tr>\n",
       "    <tr>\n",
       "      <th>7</th>\n",
       "      <td>100017.990434</td>\n",
       "      <td>-0.156213</td>\n",
       "      <td>100002.086098</td>\n",
       "      <td>1.405913</td>\n",
       "    </tr>\n",
       "    <tr>\n",
       "      <th>8</th>\n",
       "      <td>100017.987507</td>\n",
       "      <td>-0.178419</td>\n",
       "      <td>100002.112441</td>\n",
       "      <td>1.605774</td>\n",
       "    </tr>\n",
       "    <tr>\n",
       "      <th>9</th>\n",
       "      <td>100017.984190</td>\n",
       "      <td>-0.200582</td>\n",
       "      <td>100002.142289</td>\n",
       "      <td>1.805241</td>\n",
       "    </tr>\n",
       "    <tr>\n",
       "      <th>10</th>\n",
       "      <td>100017.980485</td>\n",
       "      <td>-0.222696</td>\n",
       "      <td>100002.175638</td>\n",
       "      <td>2.004264</td>\n",
       "    </tr>\n",
       "    <tr>\n",
       "      <th>11</th>\n",
       "      <td>100017.976391</td>\n",
       "      <td>-0.244755</td>\n",
       "      <td>100002.212485</td>\n",
       "      <td>2.202795</td>\n",
       "    </tr>\n",
       "    <tr>\n",
       "      <th>12</th>\n",
       "      <td>100017.971908</td>\n",
       "      <td>-0.266754</td>\n",
       "      <td>100002.252827</td>\n",
       "      <td>2.400783</td>\n",
       "    </tr>\n",
       "    <tr>\n",
       "      <th>13</th>\n",
       "      <td>100017.967038</td>\n",
       "      <td>-0.288687</td>\n",
       "      <td>100002.296659</td>\n",
       "      <td>2.598179</td>\n",
       "    </tr>\n",
       "    <tr>\n",
       "      <th>14</th>\n",
       "      <td>100017.961780</td>\n",
       "      <td>-0.310548</td>\n",
       "      <td>100002.343977</td>\n",
       "      <td>2.794933</td>\n",
       "    </tr>\n",
       "    <tr>\n",
       "      <th>15</th>\n",
       "      <td>100017.956136</td>\n",
       "      <td>-0.332333</td>\n",
       "      <td>100002.394777</td>\n",
       "      <td>2.990994</td>\n",
       "    </tr>\n",
       "    <tr>\n",
       "      <th>16</th>\n",
       "      <td>100017.950105</td>\n",
       "      <td>-0.354035</td>\n",
       "      <td>100002.449053</td>\n",
       "      <td>3.186313</td>\n",
       "    </tr>\n",
       "    <tr>\n",
       "      <th>17</th>\n",
       "      <td>100017.943689</td>\n",
       "      <td>-0.375649</td>\n",
       "      <td>100002.506799</td>\n",
       "      <td>3.380839</td>\n",
       "    </tr>\n",
       "    <tr>\n",
       "      <th>18</th>\n",
       "      <td>100017.936888</td>\n",
       "      <td>-0.397169</td>\n",
       "      <td>100002.568010</td>\n",
       "      <td>3.574522</td>\n",
       "    </tr>\n",
       "    <tr>\n",
       "      <th>19</th>\n",
       "      <td>100017.929702</td>\n",
       "      <td>-0.418590</td>\n",
       "      <td>100002.632678</td>\n",
       "      <td>3.767312</td>\n",
       "    </tr>\n",
       "    <tr>\n",
       "      <th>20</th>\n",
       "      <td>100017.922133</td>\n",
       "      <td>-0.439906</td>\n",
       "      <td>100002.700799</td>\n",
       "      <td>3.959157</td>\n",
       "    </tr>\n",
       "    <tr>\n",
       "      <th>21</th>\n",
       "      <td>100017.914182</td>\n",
       "      <td>-0.461112</td>\n",
       "      <td>100002.772363</td>\n",
       "      <td>4.150007</td>\n",
       "    </tr>\n",
       "    <tr>\n",
       "      <th>22</th>\n",
       "      <td>100017.905848</td>\n",
       "      <td>-0.482201</td>\n",
       "      <td>100002.847364</td>\n",
       "      <td>4.339810</td>\n",
       "    </tr>\n",
       "    <tr>\n",
       "      <th>23</th>\n",
       "      <td>100017.897134</td>\n",
       "      <td>-0.503168</td>\n",
       "      <td>100002.925793</td>\n",
       "      <td>4.528515</td>\n",
       "    </tr>\n",
       "    <tr>\n",
       "      <th>24</th>\n",
       "      <td>100017.888040</td>\n",
       "      <td>-0.524008</td>\n",
       "      <td>100003.007641</td>\n",
       "      <td>4.716071</td>\n",
       "    </tr>\n",
       "    <tr>\n",
       "      <th>25</th>\n",
       "      <td>100017.878567</td>\n",
       "      <td>-0.544714</td>\n",
       "      <td>100003.092901</td>\n",
       "      <td>4.902426</td>\n",
       "    </tr>\n",
       "    <tr>\n",
       "      <th>26</th>\n",
       "      <td>100017.868715</td>\n",
       "      <td>-0.565281</td>\n",
       "      <td>100003.181562</td>\n",
       "      <td>5.087527</td>\n",
       "    </tr>\n",
       "    <tr>\n",
       "      <th>27</th>\n",
       "      <td>100017.858487</td>\n",
       "      <td>-0.585703</td>\n",
       "      <td>100003.273614</td>\n",
       "      <td>5.271324</td>\n",
       "    </tr>\n",
       "    <tr>\n",
       "      <th>28</th>\n",
       "      <td>100017.847884</td>\n",
       "      <td>-0.605974</td>\n",
       "      <td>100003.369047</td>\n",
       "      <td>5.453763</td>\n",
       "    </tr>\n",
       "    <tr>\n",
       "      <th>29</th>\n",
       "      <td>100017.836906</td>\n",
       "      <td>-0.626088</td>\n",
       "      <td>100003.467850</td>\n",
       "      <td>5.634791</td>\n",
       "    </tr>\n",
       "    <tr>\n",
       "      <th>...</th>\n",
       "      <td>...</td>\n",
       "      <td>...</td>\n",
       "      <td>...</td>\n",
       "      <td>...</td>\n",
       "    </tr>\n",
       "    <tr>\n",
       "      <th>71</th>\n",
       "      <td>100017.064962</td>\n",
       "      <td>-1.246745</td>\n",
       "      <td>100010.415338</td>\n",
       "      <td>11.220702</td>\n",
       "    </tr>\n",
       "    <tr>\n",
       "      <th>72</th>\n",
       "      <td>100017.040183</td>\n",
       "      <td>-1.254086</td>\n",
       "      <td>100010.638350</td>\n",
       "      <td>11.286776</td>\n",
       "    </tr>\n",
       "    <tr>\n",
       "      <th>73</th>\n",
       "      <td>100017.015175</td>\n",
       "      <td>-1.260978</td>\n",
       "      <td>100010.863425</td>\n",
       "      <td>11.348806</td>\n",
       "    </tr>\n",
       "    <tr>\n",
       "      <th>74</th>\n",
       "      <td>100016.989944</td>\n",
       "      <td>-1.267414</td>\n",
       "      <td>100011.090505</td>\n",
       "      <td>11.406727</td>\n",
       "    </tr>\n",
       "    <tr>\n",
       "      <th>75</th>\n",
       "      <td>100016.964497</td>\n",
       "      <td>-1.273386</td>\n",
       "      <td>100011.319528</td>\n",
       "      <td>11.460473</td>\n",
       "    </tr>\n",
       "    <tr>\n",
       "      <th>76</th>\n",
       "      <td>100016.938841</td>\n",
       "      <td>-1.278886</td>\n",
       "      <td>100011.550430</td>\n",
       "      <td>11.509978</td>\n",
       "    </tr>\n",
       "    <tr>\n",
       "      <th>77</th>\n",
       "      <td>100016.912984</td>\n",
       "      <td>-1.283909</td>\n",
       "      <td>100011.783147</td>\n",
       "      <td>11.555177</td>\n",
       "    </tr>\n",
       "    <tr>\n",
       "      <th>78</th>\n",
       "      <td>100016.886932</td>\n",
       "      <td>-1.288445</td>\n",
       "      <td>100012.017611</td>\n",
       "      <td>11.596003</td>\n",
       "    </tr>\n",
       "    <tr>\n",
       "      <th>79</th>\n",
       "      <td>100016.860694</td>\n",
       "      <td>-1.292488</td>\n",
       "      <td>100012.253752</td>\n",
       "      <td>11.632393</td>\n",
       "    </tr>\n",
       "    <tr>\n",
       "      <th>80</th>\n",
       "      <td>100016.834278</td>\n",
       "      <td>-1.296031</td>\n",
       "      <td>100012.491497</td>\n",
       "      <td>11.664279</td>\n",
       "    </tr>\n",
       "    <tr>\n",
       "      <th>81</th>\n",
       "      <td>100016.807692</td>\n",
       "      <td>-1.299066</td>\n",
       "      <td>100012.730773</td>\n",
       "      <td>11.691598</td>\n",
       "    </tr>\n",
       "    <tr>\n",
       "      <th>82</th>\n",
       "      <td>100016.780944</td>\n",
       "      <td>-1.301587</td>\n",
       "      <td>100012.971502</td>\n",
       "      <td>11.714285</td>\n",
       "    </tr>\n",
       "    <tr>\n",
       "      <th>83</th>\n",
       "      <td>100016.754044</td>\n",
       "      <td>-1.303586</td>\n",
       "      <td>100013.213605</td>\n",
       "      <td>11.732275</td>\n",
       "    </tr>\n",
       "    <tr>\n",
       "      <th>84</th>\n",
       "      <td>100016.727000</td>\n",
       "      <td>-1.305056</td>\n",
       "      <td>100013.457001</td>\n",
       "      <td>11.745506</td>\n",
       "    </tr>\n",
       "    <tr>\n",
       "      <th>85</th>\n",
       "      <td>100016.699822</td>\n",
       "      <td>-1.305990</td>\n",
       "      <td>100013.701605</td>\n",
       "      <td>11.753913</td>\n",
       "    </tr>\n",
       "    <tr>\n",
       "      <th>86</th>\n",
       "      <td>100016.672519</td>\n",
       "      <td>-1.306382</td>\n",
       "      <td>100013.947331</td>\n",
       "      <td>11.757436</td>\n",
       "    </tr>\n",
       "    <tr>\n",
       "      <th>87</th>\n",
       "      <td>100016.645101</td>\n",
       "      <td>-1.306223</td>\n",
       "      <td>100014.194088</td>\n",
       "      <td>11.756011</td>\n",
       "    </tr>\n",
       "    <tr>\n",
       "      <th>88</th>\n",
       "      <td>100016.617579</td>\n",
       "      <td>-1.305509</td>\n",
       "      <td>100014.441785</td>\n",
       "      <td>11.749578</td>\n",
       "    </tr>\n",
       "    <tr>\n",
       "      <th>89</th>\n",
       "      <td>100016.589964</td>\n",
       "      <td>-1.304231</td>\n",
       "      <td>100014.690326</td>\n",
       "      <td>11.738078</td>\n",
       "    </tr>\n",
       "    <tr>\n",
       "      <th>90</th>\n",
       "      <td>100016.562265</td>\n",
       "      <td>-1.302383</td>\n",
       "      <td>100014.939614</td>\n",
       "      <td>11.721450</td>\n",
       "    </tr>\n",
       "    <tr>\n",
       "      <th>91</th>\n",
       "      <td>100016.534495</td>\n",
       "      <td>-1.299960</td>\n",
       "      <td>100015.189548</td>\n",
       "      <td>11.699638</td>\n",
       "    </tr>\n",
       "    <tr>\n",
       "      <th>92</th>\n",
       "      <td>100016.506664</td>\n",
       "      <td>-1.296954</td>\n",
       "      <td>100015.440023</td>\n",
       "      <td>11.672585</td>\n",
       "    </tr>\n",
       "    <tr>\n",
       "      <th>93</th>\n",
       "      <td>100016.478785</td>\n",
       "      <td>-1.293359</td>\n",
       "      <td>100015.690934</td>\n",
       "      <td>11.640235</td>\n",
       "    </tr>\n",
       "    <tr>\n",
       "      <th>94</th>\n",
       "      <td>100016.450870</td>\n",
       "      <td>-1.289171</td>\n",
       "      <td>100015.942171</td>\n",
       "      <td>11.602535</td>\n",
       "    </tr>\n",
       "    <tr>\n",
       "      <th>95</th>\n",
       "      <td>100016.422931</td>\n",
       "      <td>-1.284381</td>\n",
       "      <td>100016.193620</td>\n",
       "      <td>11.559432</td>\n",
       "    </tr>\n",
       "    <tr>\n",
       "      <th>96</th>\n",
       "      <td>100016.394981</td>\n",
       "      <td>-1.278986</td>\n",
       "      <td>100016.445167</td>\n",
       "      <td>11.510876</td>\n",
       "    </tr>\n",
       "    <tr>\n",
       "      <th>97</th>\n",
       "      <td>100016.367034</td>\n",
       "      <td>-1.272980</td>\n",
       "      <td>100016.696691</td>\n",
       "      <td>11.456819</td>\n",
       "    </tr>\n",
       "    <tr>\n",
       "      <th>98</th>\n",
       "      <td>100016.339103</td>\n",
       "      <td>-1.266357</td>\n",
       "      <td>100016.948072</td>\n",
       "      <td>11.397213</td>\n",
       "    </tr>\n",
       "    <tr>\n",
       "      <th>99</th>\n",
       "      <td>100016.311202</td>\n",
       "      <td>-1.259113</td>\n",
       "      <td>100017.199184</td>\n",
       "      <td>11.332015</td>\n",
       "    </tr>\n",
       "    <tr>\n",
       "      <th>100</th>\n",
       "      <td>100016.283345</td>\n",
       "      <td>-1.251242</td>\n",
       "      <td>100017.449898</td>\n",
       "      <td>11.261182</td>\n",
       "    </tr>\n",
       "  </tbody>\n",
       "</table>\n",
       "<p>101 rows × 4 columns</p>\n",
       "</div>"
      ],
      "text/plain": [
       "                x1        y1             x2         y2\n",
       "t                                                     \n",
       "0    100018.000000  0.000000  100002.000000   0.000000\n",
       "1    100017.999805 -0.022360  100002.001758   0.201238\n",
       "2    100017.999219 -0.044714  100002.007031   0.402427\n",
       "3    100017.998242 -0.067057  100002.015819   0.603517\n",
       "4    100017.996875 -0.089384  100002.028121   0.804460\n",
       "5    100017.995118 -0.111690  100002.043936   1.005207\n",
       "6    100017.992971 -0.133967  100002.063263   1.205707\n",
       "7    100017.990434 -0.156213  100002.086098   1.405913\n",
       "8    100017.987507 -0.178419  100002.112441   1.605774\n",
       "9    100017.984190 -0.200582  100002.142289   1.805241\n",
       "10   100017.980485 -0.222696  100002.175638   2.004264\n",
       "11   100017.976391 -0.244755  100002.212485   2.202795\n",
       "12   100017.971908 -0.266754  100002.252827   2.400783\n",
       "13   100017.967038 -0.288687  100002.296659   2.598179\n",
       "14   100017.961780 -0.310548  100002.343977   2.794933\n",
       "15   100017.956136 -0.332333  100002.394777   2.990994\n",
       "16   100017.950105 -0.354035  100002.449053   3.186313\n",
       "17   100017.943689 -0.375649  100002.506799   3.380839\n",
       "18   100017.936888 -0.397169  100002.568010   3.574522\n",
       "19   100017.929702 -0.418590  100002.632678   3.767312\n",
       "20   100017.922133 -0.439906  100002.700799   3.959157\n",
       "21   100017.914182 -0.461112  100002.772363   4.150007\n",
       "22   100017.905848 -0.482201  100002.847364   4.339810\n",
       "23   100017.897134 -0.503168  100002.925793   4.528515\n",
       "24   100017.888040 -0.524008  100003.007641   4.716071\n",
       "25   100017.878567 -0.544714  100003.092901   4.902426\n",
       "26   100017.868715 -0.565281  100003.181562   5.087527\n",
       "27   100017.858487 -0.585703  100003.273614   5.271324\n",
       "28   100017.847884 -0.605974  100003.369047   5.453763\n",
       "29   100017.836906 -0.626088  100003.467850   5.634791\n",
       "..             ...       ...            ...        ...\n",
       "71   100017.064962 -1.246745  100010.415338  11.220702\n",
       "72   100017.040183 -1.254086  100010.638350  11.286776\n",
       "73   100017.015175 -1.260978  100010.863425  11.348806\n",
       "74   100016.989944 -1.267414  100011.090505  11.406727\n",
       "75   100016.964497 -1.273386  100011.319528  11.460473\n",
       "76   100016.938841 -1.278886  100011.550430  11.509978\n",
       "77   100016.912984 -1.283909  100011.783147  11.555177\n",
       "78   100016.886932 -1.288445  100012.017611  11.596003\n",
       "79   100016.860694 -1.292488  100012.253752  11.632393\n",
       "80   100016.834278 -1.296031  100012.491497  11.664279\n",
       "81   100016.807692 -1.299066  100012.730773  11.691598\n",
       "82   100016.780944 -1.301587  100012.971502  11.714285\n",
       "83   100016.754044 -1.303586  100013.213605  11.732275\n",
       "84   100016.727000 -1.305056  100013.457001  11.745506\n",
       "85   100016.699822 -1.305990  100013.701605  11.753913\n",
       "86   100016.672519 -1.306382  100013.947331  11.757436\n",
       "87   100016.645101 -1.306223  100014.194088  11.756011\n",
       "88   100016.617579 -1.305509  100014.441785  11.749578\n",
       "89   100016.589964 -1.304231  100014.690326  11.738078\n",
       "90   100016.562265 -1.302383  100014.939614  11.721450\n",
       "91   100016.534495 -1.299960  100015.189548  11.699638\n",
       "92   100016.506664 -1.296954  100015.440023  11.672585\n",
       "93   100016.478785 -1.293359  100015.690934  11.640235\n",
       "94   100016.450870 -1.289171  100015.942171  11.602535\n",
       "95   100016.422931 -1.284381  100016.193620  11.559432\n",
       "96   100016.394981 -1.278986  100016.445167  11.510876\n",
       "97   100016.367034 -1.272980  100016.696691  11.456819\n",
       "98   100016.339103 -1.266357  100016.948072  11.397213\n",
       "99   100016.311202 -1.259113  100017.199184  11.332015\n",
       "100  100016.283345 -1.251242  100017.449898  11.261182\n",
       "\n",
       "[101 rows x 4 columns]"
      ]
     },
     "execution_count": 21,
     "metadata": {},
     "output_type": "execute_result"
    }
   ],
   "source": [
    "df_x[df_x['x1']>1.999804] #.plot()"
   ]
  },
  {
   "cell_type": "code",
   "execution_count": 22,
   "metadata": {
    "collapsed": true,
    "deletable": true,
    "editable": true
   },
   "outputs": [],
   "source": [
    "df_waves.to_csv('fig3_'+figname+'_wave.gp',sep='\\t')"
   ]
  },
  {
   "cell_type": "code",
   "execution_count": 23,
   "metadata": {
    "collapsed": false,
    "deletable": true,
    "editable": true
   },
   "outputs": [
    {
     "data": {
      "text/plain": [
       "<matplotlib.axes._subplots.AxesSubplot at 0x111191450>"
      ]
     },
     "execution_count": 23,
     "metadata": {},
     "output_type": "execute_result"
    },
    {
     "data": {
      "image/png": "[encoded data removed]",
      "text/plain": [
       "<matplotlib.figure.Figure at 0x110e91d10>"
      ]
     },
     "metadata": {},
     "output_type": "display_data"
    }
   ],
   "source": [
    "df_waves['R[Om=1]'].plot(figsize=(20,10))"
   ]
  },
  {
   "cell_type": "code",
   "execution_count": 24,
   "metadata": {
    "collapsed": false,
    "deletable": true,
    "editable": true
   },
   "outputs": [
    {
     "data": {
      "text/plain": [
       "<matplotlib.axes._subplots.AxesSubplot at 0x10efb2c90>"
      ]
     },
     "execution_count": 24,
     "metadata": {},
     "output_type": "execute_result"
    },
    {
     "data": {
      "image/png": "[encoded data removed]",
      "text/plain": [
       "<matplotlib.figure.Figure at 0x1102c5e50>"
      ]
     },
     "metadata": {},
     "output_type": "display_data"
    }
   ],
   "source": [
    "df_waves['R[Qm=-1]'].plot(figsize=(20,10))"
   ]
  },
  {
   "cell_type": "code",
   "execution_count": 25,
   "metadata": {
    "collapsed": false,
    "deletable": true,
    "editable": true
   },
   "outputs": [
    {
     "data": {
      "text/plain": [
       "<matplotlib.axes._subplots.AxesSubplot at 0x111559e10>"
      ]
     },
     "execution_count": 25,
     "metadata": {},
     "output_type": "execute_result"
    },
    {
     "data": {
      "image/png": "[encoded data removed]",
      "text/plain": [
       "<matplotlib.figure.Figure at 0x111572410>"
      ]
     },
     "metadata": {},
     "output_type": "display_data"
    }
   ],
   "source": [
    "df_waves.iloc[:,(0,5)].plot()"
   ]
  },
  {
   "cell_type": "code",
   "execution_count": 26,
   "metadata": {
    "collapsed": false,
    "deletable": true,
    "editable": true
   },
   "outputs": [
    {
     "data": {
      "text/plain": [
       "<matplotlib.axes._subplots.AxesSubplot at 0x111572f10>"
      ]
     },
     "execution_count": 26,
     "metadata": {},
     "output_type": "execute_result"
    },
    {
     "data": {
      "image/png": "[encoded data removed]",
      "text/plain": [
       "<matplotlib.figure.Figure at 0x1118b9d90>"
      ]
     },
     "metadata": {},
     "output_type": "display_data"
    }
   ],
   "source": [
    "ax=pd.Series(np.gradient(df_dxdt['x1'].values,df_dxdt.index.values),index=df_dxdt.index).plot(figsize=(20,10))\n",
    "(df_ddxdt2['x1']).plot(figsize=(20,10),ax=ax)\n"
   ]
  },
  {
   "cell_type": "code",
   "execution_count": 22,
   "metadata": {
    "collapsed": false,
    "deletable": true,
    "editable": true
   },
   "outputs": [
    {
     "data": {
      "text/plain": [
       "<mpl_toolkits.mplot3d.art3d.Poly3DCollection at 0x10fd30c18>"
      ]
     },
     "execution_count": 22,
     "metadata": {},
     "output_type": "execute_result"
    },
    {
     "data": {
      "image/png": "[encoded data removed]",
      "text/plain": [
       "<matplotlib.figure.Figure at 0x10fdf7cc0>"
      ]
     },
     "metadata": {},
     "output_type": "display_data"
    }
   ],
   "source": [
    "grid_size=h5file['coordinates/x'].shape\n",
    "xc=h5file['coordinates/x'][:,:,grid_size[2]/2]\n",
    "yc=h5file['coordinates/y'][:,:,grid_size[2]/2]\n",
    "metric=h5file['0/fields/4/metric_0_0'][:,:,grid_size[2]/2]\n",
    "\n",
    "fig_2d= plt.figure(1)\n",
    "ax=fig_2d.add_subplot(1, 1, 1, projection='3d')\n",
    "ax.plot_surface(xc, yc, metric, rstride=4, cstride=4, linewidth=0)"
   ]
  },
  {
   "cell_type": "code",
   "execution_count": 35,
   "metadata": {
    "collapsed": false,
    "deletable": true,
    "editable": true
   },
   "outputs": [
    {
     "data": {
      "image/png": "[encoded data removed]",
      "text/plain": [
       "<matplotlib.figure.Figure at 0x110211470>"
      ]
     },
     "metadata": {},
     "output_type": "display_data"
    }
   ],
   "source": [
    "def plot_metric(i):\n",
    "    grid_size=h5file['coordinates/x'].shape\n",
    "    xc=h5file['coordinates/x'][:,:,grid_size[2]/2]\n",
    "    yc=h5file['coordinates/y'][:,:,grid_size[2]/2]\n",
    "    metric=h5file['0/fields/'+str(i)+'/metric_0_0'][:,:,grid_size[2]/2]\n",
    "    plt.imshow(metric, extent=(np.amin(xc), np.amax(xc), np.amin(yc), np.amax(yc)),\n",
    "            cmap=cm.hot, norm=LogNorm())\n",
    "    plt.colorbar()\n",
    "    plt.show()\n",
    "    \n",
    "plot_metric(11)"
   ]
  },
  {
   "cell_type": "code",
   "execution_count": 34,
   "metadata": {
    "collapsed": false,
    "deletable": true,
    "editable": true
   },
   "outputs": [
    {
     "data": {
      "text/plain": [
       "KeysView(<HDF5 group \"/0/fields\" (11 members)>)"
      ]
     },
     "execution_count": 34,
     "metadata": {},
     "output_type": "execute_result"
    }
   ],
   "source": []
  },
  {
   "cell_type": "code",
   "execution_count": null,
   "metadata": {
    "collapsed": true
   },
   "outputs": [],
   "source": []
  }
 ],
 "metadata": {
  "kernelspec": {
   "display_name": "Python 2",
   "language": "python",
   "name": "python2"
  },
  "language_info": {
   "codemirror_mode": {
    "name": "ipython",
    "version": 3
   },
   "file_extension": ".py",
   "mimetype": "text/x-python",
   "name": "python",
   "nbconvert_exporter": "python",
   "pygments_lexer": "ipython3",
   "version": "3.6.1"
  }
 },
 "nbformat": 4,
 "nbformat_minor": 2
}
